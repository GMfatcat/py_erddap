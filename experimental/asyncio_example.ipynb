{
 "cells": [
  {
   "cell_type": "code",
   "execution_count": 1,
   "id": "658e5085",
   "metadata": {},
   "outputs": [],
   "source": [
    "# this notebook is operate within the same folder of download.py & download_setting.py\n",
    "from IPython.display import HTML\n",
    "from download import *\n",
    "from copy import copy"
   ]
  },
  {
   "cell_type": "code",
   "execution_count": 2,
   "id": "0d00d523",
   "metadata": {},
   "outputs": [
    {
     "name": "stdout",
     "output_type": "stream",
     "text": [
      "test_downloader has been created\n",
      "======Current Dict Settings======\n",
      "{'dlwrfsfc': True,\n",
      " 'dswrfsfc': True,\n",
      " 'end_date': '(2022-04-30T12:00:00Z)',\n",
      " 'lat_range': [0, 30],\n",
      " 'long_range': [118, 150],\n",
      " 'pratesfc': True,\n",
      " 'prmslmsl': True,\n",
      " 'rh2m': True,\n",
      " 'start_date': '(2022-04-25T12:00:00Z)',\n",
      " 'tmp2m': True,\n",
      " 'tmpsfc': True,\n",
      " 'ugrd10m': True,\n",
      " 'vgrd10m': True}\n",
      "=================================\n",
      "Excecute time(function): set_up with 0.004 seconds\n",
      "Excecute time(function): generate_condiction_url with 0.0 seconds\n",
      "Excecute time(function): define_url_and_output_filename with 0.0 seconds\n",
      "======Current Downloader Settings======\n",
      "{'asyncio': False,\n",
      " 'download_url': 'https://pae-paha.pacioos.hawaii.edu/erddap/griddap/ncep_global.nc?tmpsfc%5B(2022-04-25T12:00:00Z):1:(2022-04-30T12:00:00Z)%5D%5B(0):1:(30)%5D%5B(118):1:(150)%5D,tmp2m%5B(2022-04-25T12:00:00Z):1:(2022-04-30T12:00:00Z)%5D%5B(0):1:(30)%5D%5B(118):1:(150)%5D,ugrd10m%5B(2022-04-25T12:00:00Z):1:(2022-04-30T12:00:00Z)%5D%5B(0):1:(30)%5D%5B(118):1:(150)%5D,vgrd10m%5B(2022-04-25T12:00:00Z):1:(2022-04-30T12:00:00Z)%5D%5B(0):1:(30)%5D%5B(118):1:(150)%5D,pratesfc%5B(2022-04-25T12:00:00Z):1:(2022-04-30T12:00:00Z)%5D%5B(0):1:(30)%5D%5B(118):1:(150)%5D,rh2m%5B(2022-04-25T12:00:00Z):1:(2022-04-30T12:00:00Z)%5D%5B(0):1:(30)%5D%5B(118):1:(150)%5D,prmslmsl%5B(2022-04-25T12:00:00Z):1:(2022-04-30T12:00:00Z)%5D%5B(0):1:(30)%5D%5B(118):1:(150)%5D,dlwrfsfc%5B(2022-04-25T12:00:00Z):1:(2022-04-30T12:00:00Z)%5D%5B(0):1:(30)%5D%5B(118):1:(150)%5D,dswrfsfc%5B(2022-04-25T12:00:00Z):1:(2022-04-30T12:00:00Z)%5D%5B(0):1:(30)%5D%5B(118):1:(150)%5D',\n",
      " 'filename': '2022_04_25T12_00_2022_04_30T12_00_0_30_118_150_gfs.nc',\n",
      " 'filetype': '.nc',\n",
      " 'if_set_up': True,\n",
      " 'name': 'test_downloader',\n",
      " 'ready': True,\n",
      " 'saveflag': 'wb',\n",
      " 'saving_dir': 'C:\\\\Users\\\\user\\\\Desktop\\\\py_erddap\\\\exp',\n",
      " 'target_dict': {'dlwrfsfc': True,\n",
      "                 'dswrfsfc': True,\n",
      "                 'end_date': '(2022-04-30T12:00:00Z)',\n",
      "                 'lat_range': [0, 30],\n",
      "                 'long_range': [118, 150],\n",
      "                 'pratesfc': True,\n",
      "                 'prmslmsl': True,\n",
      "                 'rh2m': True,\n",
      "                 'start_date': '(2022-04-25T12:00:00Z)',\n",
      "                 'tmp2m': True,\n",
      "                 'tmpsfc': True,\n",
      "                 'ugrd10m': True,\n",
      "                 'vgrd10m': True},\n",
      " 'target_org_url': 'https://pae-paha.pacioos.hawaii.edu/erddap/griddap/ncep_global.nc?'}\n",
      "=======================================\n",
      "Excecute time(function): last_check_before_download with 0.011 seconds\n",
      "Finish Copy:(<download.Downloader object at 0x0000015F584A4190>, <download.Downloader object at 0x0000015F584A4E50>, <download.Downloader object at 0x0000015F584A46D0>, <download.Downloader object at 0x0000015F584A4AC0>, <download.Downloader object at 0x0000015F584A46A0>)\n"
     ]
    }
   ],
   "source": [
    "# Download 5 GFS\n",
    "save_dir = r'C:\\Users\\user\\Desktop\\py_erddap\\exp'\n",
    "d1 = Downloader(name = 'test_downloader') # set name to downloader class\n",
    "d1.set_up(targetDataset_dictionary = gfs_dict,targetDataset_org_url = gfs_org_url) # download gfs for example\n",
    "d1.define_url_and_output_filename(saving_dir = save_dir, suffix = 'gfs') # suffix = words in front of file extension\n",
    "last_check_before_download(d1) # show all setting of the downloader\n",
    "\n",
    "# Copy 4 d1\n",
    "d2 = copy(d1)\n",
    "d3 = copy(d1)\n",
    "d4 = copy(d1)\n",
    "d5 = copy(d1)\n",
    "print(f\"Finish Copy:{d1,d2,d3,d4,d5}\") # we can see that 5 downloader save in seperate memory sapces"
   ]
  },
  {
   "cell_type": "code",
   "execution_count": 3,
   "id": "01223d22",
   "metadata": {},
   "outputs": [
    {
     "name": "stdout",
     "output_type": "stream",
     "text": [
      "[<download.Downloader object at 0x0000015F584A4190>, <download.Downloader object at 0x0000015F584A4E50>, <download.Downloader object at 0x0000015F584A46D0>, <download.Downloader object at 0x0000015F584A4AC0>, <download.Downloader object at 0x0000015F584A46A0>]\n",
      "Request Status | Filename | Finish Time\n",
      "Async total time: 1.8657665252685547\n"
     ]
    }
   ],
   "source": [
    "# Asyncio Download --> pass all downloader to function\n",
    "async_download(d1,d2,d3,d4,d5)"
   ]
  },
  {
   "cell_type": "code",
   "execution_count": null,
   "id": "be751ced",
   "metadata": {},
   "outputs": [],
   "source": [
    "# The download file is 0 kb ... --> Fail :("
   ]
  },
  {
   "cell_type": "code",
   "execution_count": 4,
   "id": "e6bc170e",
   "metadata": {},
   "outputs": [
    {
     "name": "stdout",
     "output_type": "stream",
     "text": [
      "test_downloader has been created\n",
      "======Current Dict Settings======\n",
      "{'dlwrfsfc': True,\n",
      " 'dswrfsfc': True,\n",
      " 'end_date': '(2022-04-30T12:00:00Z)',\n",
      " 'lat_range': [0, 30],\n",
      " 'long_range': [118, 150],\n",
      " 'pratesfc': True,\n",
      " 'prmslmsl': True,\n",
      " 'rh2m': True,\n",
      " 'start_date': '(2022-04-25T12:00:00Z)',\n",
      " 'tmp2m': True,\n",
      " 'tmpsfc': True,\n",
      " 'ugrd10m': True,\n",
      " 'vgrd10m': True}\n",
      "=================================\n",
      "Excecute time(function): set_up with 0.002 seconds\n",
      "Excecute time(function): generate_condiction_url with 0.0 seconds\n",
      "Excecute time(function): define_url_and_output_filename with 0.0 seconds\n",
      "======Current Downloader Settings======\n",
      "{'asyncio': False,\n",
      " 'download_url': 'https://pae-paha.pacioos.hawaii.edu/erddap/griddap/ncep_global.nc?tmpsfc%5B(2022-04-25T12:00:00Z):1:(2022-04-30T12:00:00Z)%5D%5B(0):1:(30)%5D%5B(118):1:(150)%5D,tmp2m%5B(2022-04-25T12:00:00Z):1:(2022-04-30T12:00:00Z)%5D%5B(0):1:(30)%5D%5B(118):1:(150)%5D,ugrd10m%5B(2022-04-25T12:00:00Z):1:(2022-04-30T12:00:00Z)%5D%5B(0):1:(30)%5D%5B(118):1:(150)%5D,vgrd10m%5B(2022-04-25T12:00:00Z):1:(2022-04-30T12:00:00Z)%5D%5B(0):1:(30)%5D%5B(118):1:(150)%5D,pratesfc%5B(2022-04-25T12:00:00Z):1:(2022-04-30T12:00:00Z)%5D%5B(0):1:(30)%5D%5B(118):1:(150)%5D,rh2m%5B(2022-04-25T12:00:00Z):1:(2022-04-30T12:00:00Z)%5D%5B(0):1:(30)%5D%5B(118):1:(150)%5D,prmslmsl%5B(2022-04-25T12:00:00Z):1:(2022-04-30T12:00:00Z)%5D%5B(0):1:(30)%5D%5B(118):1:(150)%5D,dlwrfsfc%5B(2022-04-25T12:00:00Z):1:(2022-04-30T12:00:00Z)%5D%5B(0):1:(30)%5D%5B(118):1:(150)%5D,dswrfsfc%5B(2022-04-25T12:00:00Z):1:(2022-04-30T12:00:00Z)%5D%5B(0):1:(30)%5D%5B(118):1:(150)%5D',\n",
      " 'filename': '2022_04_25T12_00_2022_04_30T12_00_0_30_118_150_gfs.nc',\n",
      " 'filetype': '.nc',\n",
      " 'if_set_up': True,\n",
      " 'name': 'test_downloader',\n",
      " 'ready': True,\n",
      " 'saveflag': 'wb',\n",
      " 'saving_dir': 'C:\\\\Users\\\\user\\\\Desktop\\\\py_erddap\\\\exp',\n",
      " 'target_dict': {'dlwrfsfc': True,\n",
      "                 'dswrfsfc': True,\n",
      "                 'end_date': '(2022-04-30T12:00:00Z)',\n",
      "                 'lat_range': [0, 30],\n",
      "                 'long_range': [118, 150],\n",
      "                 'pratesfc': True,\n",
      "                 'prmslmsl': True,\n",
      "                 'rh2m': True,\n",
      "                 'start_date': '(2022-04-25T12:00:00Z)',\n",
      "                 'tmp2m': True,\n",
      "                 'tmpsfc': True,\n",
      "                 'ugrd10m': True,\n",
      "                 'vgrd10m': True},\n",
      " 'target_org_url': 'https://pae-paha.pacioos.hawaii.edu/erddap/griddap/ncep_global.nc?'}\n",
      "=======================================\n",
      "Excecute time(function): last_check_before_download with 0.008 seconds\n"
     ]
    }
   ],
   "source": [
    "# Maybe we really create 5 different downloader\n",
    "d1 = Downloader(name = 'test_downloader') # set name to downloader class\n",
    "d1.set_up(targetDataset_dictionary = gfs_dict,targetDataset_org_url = gfs_org_url) # download gfs for example\n",
    "d1.define_url_and_output_filename(saving_dir = save_dir, suffix = 'gfs') # suffix = words in front of file extension\n",
    "last_check_before_download(d1) # show all setting of the downloader"
   ]
  },
  {
   "cell_type": "code",
   "execution_count": 5,
   "id": "c78c29dd",
   "metadata": {},
   "outputs": [
    {
     "name": "stdout",
     "output_type": "stream",
     "text": [
      "test_downloader2 has been created\n",
      "======Current Dict Settings======\n",
      "{'dlwrfsfc': True,\n",
      " 'dswrfsfc': True,\n",
      " 'end_date': '(2022-04-30T12:00:00Z)',\n",
      " 'lat_range': [0, 30],\n",
      " 'long_range': [118, 150],\n",
      " 'pratesfc': True,\n",
      " 'prmslmsl': True,\n",
      " 'rh2m': True,\n",
      " 'start_date': '(2022-04-25T12:00:00Z)',\n",
      " 'tmp2m': True,\n",
      " 'tmpsfc': False,\n",
      " 'ugrd10m': True,\n",
      " 'vgrd10m': True}\n",
      "=================================\n",
      "Excecute time(function): set_up with 0.001 seconds\n",
      "Excecute time(function): generate_condiction_url with 0.001 seconds\n",
      "Excecute time(function): define_url_and_output_filename with 0.001 seconds\n",
      "======Current Downloader Settings======\n",
      "{'asyncio': False,\n",
      " 'download_url': 'https://pae-paha.pacioos.hawaii.edu/erddap/griddap/ncep_global.nc?tmp2m%5B(2022-04-25T12:00:00Z):1:(2022-04-30T12:00:00Z)%5D%5B(0):1:(30)%5D%5B(118):1:(150)%5D,ugrd10m%5B(2022-04-25T12:00:00Z):1:(2022-04-30T12:00:00Z)%5D%5B(0):1:(30)%5D%5B(118):1:(150)%5D,vgrd10m%5B(2022-04-25T12:00:00Z):1:(2022-04-30T12:00:00Z)%5D%5B(0):1:(30)%5D%5B(118):1:(150)%5D,pratesfc%5B(2022-04-25T12:00:00Z):1:(2022-04-30T12:00:00Z)%5D%5B(0):1:(30)%5D%5B(118):1:(150)%5D,rh2m%5B(2022-04-25T12:00:00Z):1:(2022-04-30T12:00:00Z)%5D%5B(0):1:(30)%5D%5B(118):1:(150)%5D,prmslmsl%5B(2022-04-25T12:00:00Z):1:(2022-04-30T12:00:00Z)%5D%5B(0):1:(30)%5D%5B(118):1:(150)%5D,dlwrfsfc%5B(2022-04-25T12:00:00Z):1:(2022-04-30T12:00:00Z)%5D%5B(0):1:(30)%5D%5B(118):1:(150)%5D,dswrfsfc%5B(2022-04-25T12:00:00Z):1:(2022-04-30T12:00:00Z)%5D%5B(0):1:(30)%5D%5B(118):1:(150)%5D',\n",
      " 'filename': '2022_04_25T12_00_2022_04_30T12_00_0_30_118_150_gfs2.nc',\n",
      " 'filetype': '.nc',\n",
      " 'if_set_up': True,\n",
      " 'name': 'test_downloader2',\n",
      " 'ready': True,\n",
      " 'saveflag': 'wb',\n",
      " 'saving_dir': 'C:\\\\Users\\\\user\\\\Desktop\\\\py_erddap\\\\exp',\n",
      " 'target_dict': {'dlwrfsfc': True,\n",
      "                 'dswrfsfc': True,\n",
      "                 'end_date': '(2022-04-30T12:00:00Z)',\n",
      "                 'lat_range': [0, 30],\n",
      "                 'long_range': [118, 150],\n",
      "                 'pratesfc': True,\n",
      "                 'prmslmsl': True,\n",
      "                 'rh2m': True,\n",
      "                 'start_date': '(2022-04-25T12:00:00Z)',\n",
      "                 'tmp2m': True,\n",
      "                 'tmpsfc': False,\n",
      "                 'ugrd10m': True,\n",
      "                 'vgrd10m': True},\n",
      " 'target_org_url': 'https://pae-paha.pacioos.hawaii.edu/erddap/griddap/ncep_global.nc?'}\n",
      "=======================================\n",
      "Excecute time(function): last_check_before_download with 0.01 seconds\n"
     ]
    }
   ],
   "source": [
    "d2 = Downloader(name = 'test_downloader2') # set name to downloader class\n",
    "\n",
    "mydict = gfs_dict\n",
    "mydict[\"tmpsfc\"] = False\n",
    "\n",
    "d2.set_up(targetDataset_dictionary = mydict,targetDataset_org_url = gfs_org_url) # download gfs for example\n",
    "d2.define_url_and_output_filename(saving_dir = save_dir, suffix = 'gfs2') # suffix = words in front of file extension\n",
    "last_check_before_download(d2) # show all setting of the downloader"
   ]
  },
  {
   "cell_type": "code",
   "execution_count": 6,
   "id": "77d38d15",
   "metadata": {},
   "outputs": [
    {
     "name": "stdout",
     "output_type": "stream",
     "text": [
      "test_downloader3 has been created\n",
      "======Current Dict Settings======\n",
      "{'dlwrfsfc': True,\n",
      " 'dswrfsfc': True,\n",
      " 'end_date': '(2022-04-30T12:00:00Z)',\n",
      " 'lat_range': [0, 30],\n",
      " 'long_range': [118, 150],\n",
      " 'pratesfc': True,\n",
      " 'prmslmsl': True,\n",
      " 'rh2m': True,\n",
      " 'start_date': '(2022-04-25T12:00:00Z)',\n",
      " 'tmp2m': True,\n",
      " 'tmpsfc': False,\n",
      " 'ugrd10m': False,\n",
      " 'vgrd10m': True}\n",
      "=================================\n",
      "Excecute time(function): set_up with 0.002 seconds\n",
      "Excecute time(function): generate_condiction_url with 0.0 seconds\n",
      "Excecute time(function): define_url_and_output_filename with 0.0 seconds\n",
      "======Current Downloader Settings======\n",
      "{'asyncio': False,\n",
      " 'download_url': 'https://pae-paha.pacioos.hawaii.edu/erddap/griddap/ncep_global.nc?tmp2m%5B(2022-04-25T12:00:00Z):1:(2022-04-30T12:00:00Z)%5D%5B(0):1:(30)%5D%5B(118):1:(150)%5D,vgrd10m%5B(2022-04-25T12:00:00Z):1:(2022-04-30T12:00:00Z)%5D%5B(0):1:(30)%5D%5B(118):1:(150)%5D,pratesfc%5B(2022-04-25T12:00:00Z):1:(2022-04-30T12:00:00Z)%5D%5B(0):1:(30)%5D%5B(118):1:(150)%5D,rh2m%5B(2022-04-25T12:00:00Z):1:(2022-04-30T12:00:00Z)%5D%5B(0):1:(30)%5D%5B(118):1:(150)%5D,prmslmsl%5B(2022-04-25T12:00:00Z):1:(2022-04-30T12:00:00Z)%5D%5B(0):1:(30)%5D%5B(118):1:(150)%5D,dlwrfsfc%5B(2022-04-25T12:00:00Z):1:(2022-04-30T12:00:00Z)%5D%5B(0):1:(30)%5D%5B(118):1:(150)%5D,dswrfsfc%5B(2022-04-25T12:00:00Z):1:(2022-04-30T12:00:00Z)%5D%5B(0):1:(30)%5D%5B(118):1:(150)%5D',\n",
      " 'filename': '2022_04_25T12_00_2022_04_30T12_00_0_30_118_150_gfs3.nc',\n",
      " 'filetype': '.nc',\n",
      " 'if_set_up': True,\n",
      " 'name': 'test_downloader3',\n",
      " 'ready': True,\n",
      " 'saveflag': 'wb',\n",
      " 'saving_dir': 'C:\\\\Users\\\\user\\\\Desktop\\\\py_erddap\\\\exp',\n",
      " 'target_dict': {'dlwrfsfc': True,\n",
      "                 'dswrfsfc': True,\n",
      "                 'end_date': '(2022-04-30T12:00:00Z)',\n",
      "                 'lat_range': [0, 30],\n",
      "                 'long_range': [118, 150],\n",
      "                 'pratesfc': True,\n",
      "                 'prmslmsl': True,\n",
      "                 'rh2m': True,\n",
      "                 'start_date': '(2022-04-25T12:00:00Z)',\n",
      "                 'tmp2m': True,\n",
      "                 'tmpsfc': False,\n",
      "                 'ugrd10m': False,\n",
      "                 'vgrd10m': True},\n",
      " 'target_org_url': 'https://pae-paha.pacioos.hawaii.edu/erddap/griddap/ncep_global.nc?'}\n",
      "=======================================\n",
      "Excecute time(function): last_check_before_download with 0.004 seconds\n"
     ]
    }
   ],
   "source": [
    "d3 = Downloader(name = 'test_downloader3') # set name to downloader class\n",
    "\n",
    "mydict = gfs_dict\n",
    "mydict[\"ugrd10m\"] = False\n",
    "\n",
    "d3.set_up(targetDataset_dictionary = gfs_dict,targetDataset_org_url = gfs_org_url) # download gfs for example\n",
    "d3.define_url_and_output_filename(saving_dir = save_dir, suffix = 'gfs3') # suffix = words in front of file extension\n",
    "last_check_before_download(d3) # show all setting of the downloader"
   ]
  },
  {
   "cell_type": "code",
   "execution_count": 7,
   "id": "a485b701",
   "metadata": {},
   "outputs": [
    {
     "name": "stdout",
     "output_type": "stream",
     "text": [
      "test_downloader4 has been created\n",
      "======Current Dict Settings======\n",
      "{'dlwrfsfc': True,\n",
      " 'dswrfsfc': True,\n",
      " 'end_date': '(2022-04-30T12:00:00Z)',\n",
      " 'lat_range': [0, 30],\n",
      " 'long_range': [118, 150],\n",
      " 'pratesfc': True,\n",
      " 'prmslmsl': True,\n",
      " 'rh2m': True,\n",
      " 'start_date': '(2022-04-25T12:00:00Z)',\n",
      " 'tmp2m': True,\n",
      " 'tmpsfc': False,\n",
      " 'ugrd10m': False,\n",
      " 'vgrd10m': False}\n",
      "=================================\n",
      "Excecute time(function): set_up with 0.004 seconds\n",
      "Excecute time(function): generate_condiction_url with 0.0 seconds\n",
      "Excecute time(function): define_url_and_output_filename with 0.0 seconds\n",
      "======Current Downloader Settings======\n",
      "{'asyncio': False,\n",
      " 'download_url': 'https://pae-paha.pacioos.hawaii.edu/erddap/griddap/ncep_global.nc?tmp2m%5B(2022-04-25T12:00:00Z):1:(2022-04-30T12:00:00Z)%5D%5B(0):1:(30)%5D%5B(118):1:(150)%5D,pratesfc%5B(2022-04-25T12:00:00Z):1:(2022-04-30T12:00:00Z)%5D%5B(0):1:(30)%5D%5B(118):1:(150)%5D,rh2m%5B(2022-04-25T12:00:00Z):1:(2022-04-30T12:00:00Z)%5D%5B(0):1:(30)%5D%5B(118):1:(150)%5D,prmslmsl%5B(2022-04-25T12:00:00Z):1:(2022-04-30T12:00:00Z)%5D%5B(0):1:(30)%5D%5B(118):1:(150)%5D,dlwrfsfc%5B(2022-04-25T12:00:00Z):1:(2022-04-30T12:00:00Z)%5D%5B(0):1:(30)%5D%5B(118):1:(150)%5D,dswrfsfc%5B(2022-04-25T12:00:00Z):1:(2022-04-30T12:00:00Z)%5D%5B(0):1:(30)%5D%5B(118):1:(150)%5D',\n",
      " 'filename': '2022_04_25T12_00_2022_04_30T12_00_0_30_118_150_gfs4.nc',\n",
      " 'filetype': '.nc',\n",
      " 'if_set_up': True,\n",
      " 'name': 'test_downloader4',\n",
      " 'ready': True,\n",
      " 'saveflag': 'wb',\n",
      " 'saving_dir': 'C:\\\\Users\\\\user\\\\Desktop\\\\py_erddap\\\\exp',\n",
      " 'target_dict': {'dlwrfsfc': True,\n",
      "                 'dswrfsfc': True,\n",
      "                 'end_date': '(2022-04-30T12:00:00Z)',\n",
      "                 'lat_range': [0, 30],\n",
      "                 'long_range': [118, 150],\n",
      "                 'pratesfc': True,\n",
      "                 'prmslmsl': True,\n",
      "                 'rh2m': True,\n",
      "                 'start_date': '(2022-04-25T12:00:00Z)',\n",
      "                 'tmp2m': True,\n",
      "                 'tmpsfc': False,\n",
      "                 'ugrd10m': False,\n",
      "                 'vgrd10m': False},\n",
      " 'target_org_url': 'https://pae-paha.pacioos.hawaii.edu/erddap/griddap/ncep_global.nc?'}\n",
      "=======================================\n",
      "Excecute time(function): last_check_before_download with 0.005 seconds\n"
     ]
    }
   ],
   "source": [
    "d4 = Downloader(name = 'test_downloader4') # set name to downloader class\n",
    "\n",
    "mydict = gfs_dict\n",
    "mydict[\"vgrd10m\"] = False\n",
    "\n",
    "d4.set_up(targetDataset_dictionary = gfs_dict,targetDataset_org_url = gfs_org_url) # download gfs for example\n",
    "d4.define_url_and_output_filename(saving_dir = save_dir, suffix = 'gfs4') # suffix = words in front of file extension\n",
    "last_check_before_download(d4) # show all setting of the downloader"
   ]
  },
  {
   "cell_type": "code",
   "execution_count": 8,
   "id": "9f940319",
   "metadata": {},
   "outputs": [
    {
     "name": "stdout",
     "output_type": "stream",
     "text": [
      "test_downloader5 has been created\n",
      "======Current Dict Settings======\n",
      "{'dlwrfsfc': True,\n",
      " 'dswrfsfc': True,\n",
      " 'end_date': '(2022-04-30T12:00:00Z)',\n",
      " 'lat_range': [0, 30],\n",
      " 'long_range': [118, 150],\n",
      " 'pratesfc': True,\n",
      " 'prmslmsl': True,\n",
      " 'rh2m': False,\n",
      " 'start_date': '(2022-04-25T12:00:00Z)',\n",
      " 'tmp2m': True,\n",
      " 'tmpsfc': False,\n",
      " 'ugrd10m': False,\n",
      " 'vgrd10m': False}\n",
      "=================================\n",
      "Excecute time(function): set_up with 0.003 seconds\n",
      "Excecute time(function): generate_condiction_url with 0.0 seconds\n",
      "Excecute time(function): define_url_and_output_filename with 0.001 seconds\n",
      "======Current Downloader Settings======\n",
      "{'asyncio': False,\n",
      " 'download_url': 'https://pae-paha.pacioos.hawaii.edu/erddap/griddap/ncep_global.nc?tmp2m%5B(2022-04-25T12:00:00Z):1:(2022-04-30T12:00:00Z)%5D%5B(0):1:(30)%5D%5B(118):1:(150)%5D,pratesfc%5B(2022-04-25T12:00:00Z):1:(2022-04-30T12:00:00Z)%5D%5B(0):1:(30)%5D%5B(118):1:(150)%5D,prmslmsl%5B(2022-04-25T12:00:00Z):1:(2022-04-30T12:00:00Z)%5D%5B(0):1:(30)%5D%5B(118):1:(150)%5D,dlwrfsfc%5B(2022-04-25T12:00:00Z):1:(2022-04-30T12:00:00Z)%5D%5B(0):1:(30)%5D%5B(118):1:(150)%5D,dswrfsfc%5B(2022-04-25T12:00:00Z):1:(2022-04-30T12:00:00Z)%5D%5B(0):1:(30)%5D%5B(118):1:(150)%5D',\n",
      " 'filename': '2022_04_25T12_00_2022_04_30T12_00_0_30_118_150_gfs5.nc',\n",
      " 'filetype': '.nc',\n",
      " 'if_set_up': True,\n",
      " 'name': 'test_downloader5',\n",
      " 'ready': True,\n",
      " 'saveflag': 'wb',\n",
      " 'saving_dir': 'C:\\\\Users\\\\user\\\\Desktop\\\\py_erddap\\\\exp',\n",
      " 'target_dict': {'dlwrfsfc': True,\n",
      "                 'dswrfsfc': True,\n",
      "                 'end_date': '(2022-04-30T12:00:00Z)',\n",
      "                 'lat_range': [0, 30],\n",
      "                 'long_range': [118, 150],\n",
      "                 'pratesfc': True,\n",
      "                 'prmslmsl': True,\n",
      "                 'rh2m': False,\n",
      "                 'start_date': '(2022-04-25T12:00:00Z)',\n",
      "                 'tmp2m': True,\n",
      "                 'tmpsfc': False,\n",
      "                 'ugrd10m': False,\n",
      "                 'vgrd10m': False},\n",
      " 'target_org_url': 'https://pae-paha.pacioos.hawaii.edu/erddap/griddap/ncep_global.nc?'}\n",
      "=======================================\n",
      "Excecute time(function): last_check_before_download with 0.008 seconds\n"
     ]
    }
   ],
   "source": [
    "d5 = Downloader(name = 'test_downloader5') # set name to downloader class\n",
    "\n",
    "mydict = gfs_dict\n",
    "mydict[\"rh2m\"] = False\n",
    "\n",
    "d5.set_up(targetDataset_dictionary = gfs_dict,targetDataset_org_url = gfs_org_url) # download gfs for example\n",
    "d5.define_url_and_output_filename(saving_dir = save_dir, suffix = 'gfs5') # suffix = words in front of file extension\n",
    "last_check_before_download(d5) # show all setting of the downloader"
   ]
  },
  {
   "cell_type": "code",
   "execution_count": 9,
   "id": "8a20aa28",
   "metadata": {},
   "outputs": [
    {
     "name": "stdout",
     "output_type": "stream",
     "text": [
      "[<download.Downloader object at 0x0000015F559EE790>, <download.Downloader object at 0x0000015F584EF1F0>, <download.Downloader object at 0x0000015F584EFDC0>, <download.Downloader object at 0x0000015F584EF3A0>, <download.Downloader object at 0x0000015F584EFAC0>]\n",
      "Request Status | Filename | Finish Time\n",
      "Async total time: 1.8739995956420898\n"
     ]
    }
   ],
   "source": [
    "# Asyncio Download --> pass all downloader to function\n",
    "async_download(d1,d2,d3,d4,d5)"
   ]
  },
  {
   "cell_type": "code",
   "execution_count": null,
   "id": "2e15d806",
   "metadata": {},
   "outputs": [],
   "source": [
    "# we got 5 file but not still working ..."
   ]
  }
 ],
 "metadata": {
  "kernelspec": {
   "display_name": "Python 3 (ipykernel)",
   "language": "python",
   "name": "python3"
  },
  "language_info": {
   "codemirror_mode": {
    "name": "ipython",
    "version": 3
   },
   "file_extension": ".py",
   "mimetype": "text/x-python",
   "name": "python",
   "nbconvert_exporter": "python",
   "pygments_lexer": "ipython3",
   "version": "3.8.12"
  }
 },
 "nbformat": 4,
 "nbformat_minor": 5
}
